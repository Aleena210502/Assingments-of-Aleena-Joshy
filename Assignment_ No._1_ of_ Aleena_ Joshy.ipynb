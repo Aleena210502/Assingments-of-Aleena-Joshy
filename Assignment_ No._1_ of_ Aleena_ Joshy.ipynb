{
 "cells": [
  {
   "cell_type": "markdown",
   "id": "7cb0ff4d",
   "metadata": {},
   "source": [
    "# Q1 Program to Accept the Details of a Student\n"
   ]
  },
  {
   "cell_type": "code",
   "execution_count": 1,
   "id": "071fd6fe",
   "metadata": {},
   "outputs": [
    {
     "name": "stdout",
     "output_type": "stream",
     "text": [
      "Enter the name:Anisha\n",
      "Enter the roll number:21\n",
      "Enter the mark:78\n",
      "Name: Anisha\n",
      "Roll No: 21\n",
      "Mark: 78\n"
     ]
    }
   ],
   "source": [
    "name = input('Enter the name:')\n",
    "roll_no = input('Enter the roll number:')\n",
    "mark = input('Enter the mark:')\n",
    "print(\"Name:\"' ' + name)\n",
    "print(\"Roll No:\"' ' + roll_no)\n",
    "print(\"Mark:\"' ' + mark)\n",
    "\n",
    "\n",
    "\n"
   ]
  },
  {
   "cell_type": "markdown",
   "id": "a210e93c",
   "metadata": {},
   "source": [
    "  # Q2 Program to Accept and Convert Temperatures to and from Celsius Fahrenheit  "
   ]
  },
  {
   "cell_type": "code",
   "execution_count": 2,
   "id": "be41e285",
   "metadata": {
    "scrolled": true
   },
   "outputs": [
    {
     "name": "stdout",
     "output_type": "stream",
     "text": [
      "Enter the temperature in fahrenheit:41\n",
      "Temperature in Celsius= 5.0\n"
     ]
    }
   ],
   "source": [
    "fahrenheit = int(input('Enter the temperature in fahrenheit:'))#read input\n",
    "celsius = ((fahrenheit-32)/9)*5                             #calculate celsius\n",
    "print('Temperature in Celsius=', celsius)\n",
    "                                                                             \n",
    "\n",
    "\n"
   ]
  },
  {
   "cell_type": "markdown",
   "id": "d48eacd8",
   "metadata": {},
   "source": [
    "# Q3 Program to Accept and Display Product of Two Numbers"
   ]
  },
  {
   "cell_type": "code",
   "execution_count": 3,
   "id": "1408378b",
   "metadata": {},
   "outputs": [
    {
     "name": "stdout",
     "output_type": "stream",
     "text": [
      "Enter number 1:24\n",
      "Enter number 2:21\n",
      "Product= 504.0\n"
     ]
    }
   ],
   "source": [
    "a = float(input('Enter number 1:'))      \n",
    "b = float(input('Enter number 2:'))\n",
    "product = a*b\n",
    "print('Product=', product)"
   ]
  },
  {
   "cell_type": "markdown",
   "id": "53f65f0b",
   "metadata": {},
   "source": [
    "# Q4 Program to Accept and Display a String"
   ]
  },
  {
   "cell_type": "code",
   "execution_count": 7,
   "id": "d3238005",
   "metadata": {},
   "outputs": [
    {
     "name": "stdout",
     "output_type": "stream",
     "text": [
      "Enter the message:Learn Python by Developing a Website\n",
      "\"Learn**Python**by Developing a**Website**\"\n"
     ]
    }
   ],
   "source": [
    "message = input('Enter the message:')\n",
    "message0 = message[0]+'\"'+message[0:]\n",
    "message1 = message0[:7]+'**'+message0[8:]\n",
    "message2 = message1[:15]+'**'+message1[16:]\n",
    "message3 = message2[:32]+'**'+message2[33:]\n",
    "message4 = message3[1:43]+'**\"'+message3[43:]\n",
    "print(message4)"
   ]
  },
  {
   "cell_type": "markdown",
   "id": "c8cfcfea",
   "metadata": {},
   "source": [
    "# Q5 Python program to accept the radius of a circle and display its area.\n"
   ]
  },
  {
   "cell_type": "code",
   "execution_count": 6,
   "id": "cbcde79b",
   "metadata": {},
   "outputs": [
    {
     "name": "stdout",
     "output_type": "stream",
     "text": [
      "Enter Radius:27.60\n",
      "Area of Circle:= 2393.139619798561\n"
     ]
    }
   ],
   "source": [
    "import math \n",
    "Radius = float(input('Enter Radius:')) \n",
    "Area = math.pi * Radius**2 \n",
    "print ('Area of Circle:=', Area)"
   ]
  },
  {
   "cell_type": "markdown",
   "id": "d3f363fd",
   "metadata": {},
   "source": [
    "# Q6 Program to insert a number to any position in a list."
   ]
  },
  {
   "cell_type": "code",
   "execution_count": 5,
   "id": "0c04f13a",
   "metadata": {},
   "outputs": [
    {
     "name": "stdout",
     "output_type": "stream",
     "text": [
      "length of list:5\n",
      "Enter a number:1\n",
      "Enter a number:2\n",
      "Enter a number:3\n",
      "Enter a number:4\n",
      "Enter a number:5\n",
      "Enter a position to insert:2\n",
      "Ener a new number to insert:0\n",
      "\n",
      "\n",
      "List of elements are: [1, 2, 3, 4, 5]\n",
      "New List after insertion are: [1, 2, 0, 3, 4, 5]\n"
     ]
    }
   ],
   "source": [
    "n = int(input(\"length of list:\")) # Accept input for the length of number\n",
    "list1 = []\n",
    "for i in range(n):\n",
    "  element = int(input(\"Enter a number:\"))\n",
    "  list1.append(element)\n",
    "p = int(input(\"Enter a position to insert:\")) #Accept input for position\n",
    "f = int(input(\"Ener a new number to insert:\")) #Accept input for new number\n",
    "print(\"\\n\")\n",
    "print(\"List of elements are:\", list1)\n",
    "list1.insert(p, f)\n",
    "print(\"New List after insertion are:\", list1)"
   ]
  },
  {
   "cell_type": "markdown",
   "id": "56960780",
   "metadata": {},
   "source": [
    "# Q7 Program to rename key value in Dictionary."
   ]
  },
  {
   "cell_type": "code",
   "execution_count": 7,
   "id": "d8ce9e74",
   "metadata": {},
   "outputs": [
    {
     "name": "stdout",
     "output_type": "stream",
     "text": [
      "{'name': 'John', 'age': 5, 'salary': 8000, 'city': 'Dubai'}\n"
     ]
    }
   ],
   "source": [
    "Dict_1 = {\"name\":\"John\", \"age\":5, \"salary\":8000,\"city\":\"New York\"}\n",
    "Dict_1.update({\"city\":\"Dubai\"})\n",
    "print(Dict_1)\n"
   ]
  },
  {
   "cell_type": "markdown",
   "id": "90282e25",
   "metadata": {},
   "source": [
    "# Q8 Program to update new salary in a dictionary."
   ]
  },
  {
   "cell_type": "code",
   "execution_count": 78,
   "id": "b3909820",
   "metadata": {},
   "outputs": [
    {
     "name": "stdout",
     "output_type": "stream",
     "text": [
      "Original Dictionary: {'emp1': {'name': 'John', 'salary': 7500}, 'emp2': {'name': 'Emma', 'salary': 8000}, 'emp3': {'name': 'Brad', 'salary': 500}}\n",
      "\n",
      "\n",
      "Dictionary Updated: {'emp1': {'name': 'John', 'salary': 7500}, 'emp2': {'name': 'Emma', 'salary': 8000}, 'emp3': {'name': 'Brad', 'salary': 8500}}\n"
     ]
    }
   ],
   "source": [
    "D_mast = {\n",
    "      'emp1':{\"name\":\"John\", \"salary\": 7500},\n",
    "      'emp2':{\"name\":\"Emma\", \"salary\": 8000},\n",
    "      'emp3':{\"name\":\"Brad\", \"salary\": 500},\n",
    "}\n",
    "print(\"Original Dictionary:\", D_mast)\n",
    "print(\"\\n\")\n",
    "D_mast['emp3'][\"salary\"] = 8500\n",
    "print(\"Dictionary Updated:\", D_mast)"
   ]
  },
  {
   "cell_type": "markdown",
   "id": "e77a023c",
   "metadata": {},
   "source": [
    "# Q9 Program to copy elements from a Tuple into a new Tuple."
   ]
  },
  {
   "cell_type": "code",
   "execution_count": 4,
   "id": "3bb0f54e",
   "metadata": {
    "scrolled": true
   },
   "outputs": [
    {
     "name": "stdout",
     "output_type": "stream",
     "text": [
      "Elements in Tuple 1 are: (10, 20, 43, 54, 56, 58)\n",
      "\n",
      "\n",
      "Elements in Tuple 2 are: (43, 54)\n"
     ]
    }
   ],
   "source": [
    "tup1 = (10, 20, 43, 54, 56, 58)\n",
    "x = (43, 54)\n",
    "tup2 = x\n",
    "print(\"Elements in Tuple 1 are:\", tup1)\n",
    "print(\"\\n\")\n",
    "print(\"Elements in Tuple 2 are:\", tup2)"
   ]
  },
  {
   "cell_type": "markdown",
   "id": "30f3c6e0",
   "metadata": {},
   "source": [
    "# Q10 Program to count number of occurances of  50 in aTuple."
   ]
  },
  {
   "cell_type": "code",
   "execution_count": 11,
   "id": "1c380f98",
   "metadata": {},
   "outputs": [
    {
     "name": "stdout",
     "output_type": "stream",
     "text": [
      "3\n"
     ]
    }
   ],
   "source": [
    "tup2 = (50, 10, 60, 70, 50, 83, 567, 50, 81)\n",
    "count = tup2.count(50)\n",
    "print(count)"
   ]
  },
  {
   "cell_type": "code",
   "execution_count": null,
   "id": "b410ce0b",
   "metadata": {},
   "outputs": [],
   "source": []
  }
 ],
 "metadata": {
  "kernelspec": {
   "display_name": "Python 3 (ipykernel)",
   "language": "python",
   "name": "python3"
  },
  "language_info": {
   "codemirror_mode": {
    "name": "ipython",
    "version": 3
   },
   "file_extension": ".py",
   "mimetype": "text/x-python",
   "name": "python",
   "nbconvert_exporter": "python",
   "pygments_lexer": "ipython3",
   "version": "3.10.9"
  }
 },
 "nbformat": 4,
 "nbformat_minor": 5
}
